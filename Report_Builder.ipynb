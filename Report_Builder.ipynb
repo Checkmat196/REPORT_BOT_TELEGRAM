{
 "cells": [
  {
   "cell_type": "code",
   "execution_count": 16,
   "metadata": {},
   "outputs": [],
   "source": [
    "# Bibliotecas Utilizadas\n",
    "\n",
    "import pandas as pd\n",
    "from oauth2client.service_account import ServiceAccountCredentials\n",
    "import requests\n",
    "import pyodbc\n",
    "import logging\n"
   ]
  },
  {
   "cell_type": "code",
   "execution_count": 17,
   "metadata": {},
   "outputs": [],
   "source": [
    "# Parâmetros da conexão\n",
    "SERVER = '35.196.69.75'\n",
    "DATABASE = 'glpi-db'\n",
    "USERNAME = 'mis-read'\n",
    "PASSWORD = 'N*>M@tI`t^Ip|ag:'\n",
    "\n",
    "# Conexão com o SQL\n",
    "connection_string = f'DRIVER={{MySQL odbc 8.0 ANSI Driver}};SERVER={SERVER};DATABASE={DATABASE};UID={USERNAME};PWD={PASSWORD}'\n",
    "\n",
    "\n",
    "conn = pyodbc.connect(connection_string)\n",
    "cursor = conn.cursor()\n",
    "\n",
    "# Conexão com o Bot\n",
    "TOKEN =  '6602187638:AAHm6-V8Ve5SQ7PnB7HOYcEnh-HXSEuXuVQ'\n",
    "CHAT_ID = '-836410811' "
   ]
  },
  {
   "cell_type": "code",
   "execution_count": 18,
   "metadata": {},
   "outputs": [
    {
     "name": "stderr",
     "output_type": "stream",
     "text": [
      "C:\\Users\\int.matheus\\AppData\\Local\\Temp\\ipykernel_25044\\1812011822.py:6: UserWarning: pandas only supports SQLAlchemy connectable (engine/connection) or database string URI or sqlite3 DBAPI2 connection. Other DBAPI2 objects are not tested. Please consider using SQLAlchemy.\n",
      "  df = pd.read_sql_query(query, conn)\n"
     ]
    }
   ],
   "source": [
    "# Ler o conteúdo do arquivo sql\n",
    "with open('Query.sql', 'r') as file:\n",
    "    query = file.read()\n",
    "\n",
    "# Usar read_sql_query para executar a consulta\n",
    "df = pd.read_sql_query(query, conn)\n",
    "\n"
   ]
  },
  {
   "cell_type": "code",
   "execution_count": 19,
   "metadata": {},
   "outputs": [],
   "source": [
    "# Conectando na api do telegram\n",
    "def send_telegram_message(chat_id, token, message):\n",
    "    base_url = f\"https://api.telegram.org/bot{token}/sendMessage\"\n",
    "    payload = {\n",
    "        'chat_id': chat_id,\n",
    "        'text': message\n",
    "    }\n",
    "    response = requests.post(base_url, data=payload)\n",
    "    return response.json()"
   ]
  },
  {
   "cell_type": "code",
   "execution_count": 20,
   "metadata": {},
   "outputs": [],
   "source": [
    "# Enviando os dados do banco de dados em conjunto com a mensagem\n",
    "try:\n",
    "   for index, row in df.iterrows():\n",
    "    texto = f\"Olá Time, um novo chamado foi criado, de origem {row['ORIGEM']}\\ne id {row['ID_CHAMADO']}\\nfoi aberto na data {row['DATA_ABERTURA_CHAMADO']}\\npelo solicitante {row['SOLICITANTE']}\\nna categoria {row ['CATEGORIA']}\"\n",
    "    #print(texto)\n",
    "    #print(\"Dados atualizados com sucesso!\")\n",
    "\n",
    "    send_telegram_message(CHAT_ID, TOKEN, texto)\n",
    "except Exception as e:\n",
    "    pass"
   ]
  },
  {
   "cell_type": "code",
   "execution_count": 21,
   "metadata": {},
   "outputs": [],
   "source": [
    "# Gerando log para checks\n",
    "logging.basicConfig(filename='Report.log', level=logging.INFO, format='%(asctime)s - %(levelname)s - %(message)s')\n"
   ]
  },
  {
   "cell_type": "code",
   "execution_count": 22,
   "metadata": {},
   "outputs": [
    {
     "data": {
      "text/plain": [
       "<function logging.info(msg, *args, **kwargs)>"
      ]
     },
     "metadata": {},
     "output_type": "display_data"
    }
   ],
   "source": [
    "\n",
    "with open('Report.log', 'r') as file:\n",
    "    log = file.read()\n",
    "\n",
    "\n",
    "logging.info('Código Rodou Agora')\n",
    "\n",
    "\n",
    "for handler in logging.root.handlers[:]:\n",
    "    handler.close()\n",
    "    logging.root.removeHandler(handler)\n",
    "\n",
    "\n",
    "display(logging.info)"
   ]
  }
 ],
 "metadata": {
  "kernelspec": {
   "display_name": ".venv",
   "language": "python",
   "name": "python3"
  },
  "language_info": {
   "codemirror_mode": {
    "name": "ipython",
    "version": 3
   },
   "file_extension": ".py",
   "mimetype": "text/x-python",
   "name": "python",
   "nbconvert_exporter": "python",
   "pygments_lexer": "ipython3",
   "version": "3.11.4"
  },
  "orig_nbformat": 4
 },
 "nbformat": 4,
 "nbformat_minor": 2
}
